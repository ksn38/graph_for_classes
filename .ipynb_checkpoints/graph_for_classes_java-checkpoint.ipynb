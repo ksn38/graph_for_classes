{
 "cells": [
  {
   "cell_type": "code",
   "execution_count": 1,
   "metadata": {},
   "outputs": [],
   "source": [
    "import re\n",
    "from collections import Counter\n",
    "import os\n",
    "import matplotlib.pyplot as plt\n",
    "import networkx as nx\n",
    "import numpy as np"
   ]
  },
  {
   "cell_type": "code",
   "execution_count": 2,
   "metadata": {},
   "outputs": [],
   "source": [
    "#path_of_lib = '/home/ksn38/spring-framework-main/'\n",
    "path_of_lib = 'C:\\\\Users\\\\ksn\\\\frameworks\\\\spring-framework-main\\\\'"
   ]
  },
  {
   "cell_type": "code",
   "execution_count": 3,
   "metadata": {},
   "outputs": [],
   "source": [
    "list_classes = []\n",
    "list_classes_for_graph = []\n",
    "list_classes_for_html = []\n",
    "\n",
    "#open .py file and get names classes with regex\n",
    "def open_and_re(path, list_classes, list_classes_for_graph, list_classes_for_html):\n",
    "    with open(path, 'r', encoding='utf-8') as file:\n",
    "        try:\n",
    "            classes = re.findall('^class.*|^interface.*|^abstract.*|^public.*|^protected.*|^private.*', \\\n",
    "                                 file.read(), re.MULTILINE)\n",
    "        except UnicodeDecodeError:\n",
    "            classes = []\n",
    "        for i in classes:\n",
    "            #class is taken for graph and counter at least 4 characters in name \n",
    "            list_1_or_more_classes = re.findall('\\w{4,}\\.*', i)\n",
    "            list_1_or_more_classes_origin = list_1_or_more_classes.copy()\n",
    "            for k in list_1_or_more_classes_origin:\n",
    "                if k in {'class', 'extends', 'interface', 'abstract', 'implements', 'public', \\\n",
    "                         'protected', 'private', 'final'}:\n",
    "                    list_1_or_more_classes.remove(k)\n",
    "            list_classes.extend(list_1_or_more_classes)\n",
    "            if len(list_1_or_more_classes) > 1:\n",
    "                for j in list_1_or_more_classes[1:]:\n",
    "                    list_classes_for_graph.append([list_1_or_more_classes[0], j])\n",
    "        if len(classes) > 0:\n",
    "            list_classes_for_html.append(f'<a href=\"{path}\">{path}</a>')\n",
    "        for c in classes:\n",
    "            c = c.replace('<', '&lt')\n",
    "            c = c.replace('>', '&gt')\n",
    "            c = c.replace('{', '')\n",
    "            list_classes_for_html.append(f'<div>{c}</div>')\n",
    "\n",
    "#run previous function on multiple files\n",
    "def printer(tuple_from_oswalk):\n",
    "    files = tuple_from_oswalk[2]\n",
    "    for f in files:\n",
    "        if tuple_from_oswalk[0][-1] != '/' and (f[-5:] == '.java' or f[-5:] == 'class'):\n",
    "            open_and_re(tuple_from_oswalk[0] + '/' + f, list_classes, \\\n",
    "                        list_classes_for_graph, list_classes_for_html)\n",
    "        elif tuple_from_oswalk[0][-1] == '/' and (f[-5:] == '.java' or f[-5:] == 'class'):\n",
    "            open_and_re(tuple_from_oswalk[0] + f, list_classes, \\\n",
    "                        list_classes_for_graph, list_classes_for_html)"
   ]
  },
  {
   "cell_type": "code",
   "execution_count": 4,
   "metadata": {},
   "outputs": [],
   "source": [
    "#run previous function on multiple directories\n",
    "for i in os.walk(path_of_lib):\n",
    "    printer(i)\n",
    "\n",
    "class_counter = Counter(list_classes)"
   ]
  },
  {
   "cell_type": "code",
   "execution_count": 5,
   "metadata": {},
   "outputs": [],
   "source": [
    "# #create graph\n",
    "# plt.figure(figsize=(100, 100))\n",
    "# G = nx.Graph()\n",
    "\n",
    "# for i in list_classes_for_graph:\n",
    "#     G.add_edge(*i, minlen = 1000)\n",
    "\n",
    "# pos = nx.spring_layout(G, k=0.05, iterations=25)\n",
    "# nx.draw_networkx(G, pos, node_color='orange', edge_color='g', node_size=100)\n",
    "\n",
    "# plt.show()"
   ]
  },
  {
   "cell_type": "code",
   "execution_count": 6,
   "metadata": {},
   "outputs": [],
   "source": [
    "#dict is needed for red color in html \n",
    "class_counter_gt_1 = {}\n",
    "\n",
    "for i in class_counter.items():\n",
    "    if i[1] > 1:\n",
    "        class_counter_gt_1[i[0]] = i[1]\n",
    "    \n",
    "class_counter_gt_1_origin = class_counter_gt_1.copy()"
   ]
  },
  {
   "cell_type": "code",
   "execution_count": 7,
   "metadata": {},
   "outputs": [],
   "source": [
    "#values of class_counter_gt_1 have been changed for convenient colors\n",
    "dict_line = dict(zip(sorted(set(class_counter_gt_1.values()), reverse=True), \\\n",
    "                     np.linspace(0, 150, len(set(class_counter_gt_1.values())))))\n",
    "\n",
    "for k, v in class_counter_gt_1.items():\n",
    "    class_counter_gt_1[k] = dict_line[v]"
   ]
  },
  {
   "cell_type": "code",
   "execution_count": 8,
   "metadata": {},
   "outputs": [],
   "source": [
    "#added colors and counter values in html\n",
    "for i in range(len(list_classes_for_html)):\n",
    "    try:\n",
    "        c = re.findall('class\\s\\w+|interface\\s\\w+', list_classes_for_html[i])\n",
    "    except:\n",
    "        c = []\n",
    "    if len(c) != 0:\n",
    "        for j in class_counter_gt_1:\n",
    "            if j == c[0].split(' ')[1]:\n",
    "                list_classes_for_html[i] = '<div style=\"color: rgb(' + \\\n",
    "                str(255 - class_counter_gt_1[j]) + \\\n",
    "                ', 0, 0)\">' + list_classes_for_html[i][5:-6] + \\\n",
    "                f' = {class_counter_gt_1_origin[j]}</div>'"
   ]
  },
  {
   "cell_type": "code",
   "execution_count": 9,
   "metadata": {},
   "outputs": [],
   "source": [
    "html_file = open('classes.html', 'w')\n",
    "list_classes_for_html.append('<br><div><b>Class counter</b></div>')\n",
    "list_classes_for_html.extend(sorted(class_counter_gt_1_origin.items(), key= lambda item: item[1], reverse=True))\n",
    "html_file.write(''.join(map(str, list_classes_for_html)))\n",
    "html_file.close()"
   ]
  },
  {
   "cell_type": "code",
   "execution_count": 10,
   "metadata": {},
   "outputs": [],
   "source": [
    "#print(sorted(class_counter_gt_1_origin.items(), key= lambda item: item[1], reverse=True))"
   ]
  }
 ],
 "metadata": {
  "kernelspec": {
   "display_name": "Python 3",
   "language": "python",
   "name": "python3"
  },
  "language_info": {
   "codemirror_mode": {
    "name": "ipython",
    "version": 3
   },
   "file_extension": ".py",
   "mimetype": "text/x-python",
   "name": "python",
   "nbconvert_exporter": "python",
   "pygments_lexer": "ipython3",
   "version": "3.7.8"
  }
 },
 "nbformat": 4,
 "nbformat_minor": 4
}
